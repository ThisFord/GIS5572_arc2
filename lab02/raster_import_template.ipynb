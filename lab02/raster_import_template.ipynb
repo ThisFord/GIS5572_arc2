{
 "cells": [
  {
   "cell_type": "code",
   "execution_count": null,
   "metadata": {},
   "outputs": [],
   "source": [
    "import requests\n",
    "import zipfile\n",
    "import io\n",
    "\n",
    "url = \"http://example.com/raster.zip\"\n",
    "response = requests.get(url)\n",
    "\n",
    "if response.status_code == 200:\n",
    "    # Success! The GET request was successful.\n",
    "    # Now we can access the zip file in the response content.\n",
    "    zip_data = io.BytesIO(response.content)\n",
    "\n",
    "    # Unzip the data using the zipfile module\n",
    "    with zipfile.ZipFile(zip_data, \"r\") as zip_ref:\n",
    "        zip_ref.extractall(\"output_folder\") # Extract the contents to a folder of your choice\n",
    "else:\n",
    "    # Oops, there was an error. Handle it here.\n",
    "    print(\"Error:\", response.status_code)\n"
   ]
  },
  {
   "cell_type": "code",
   "execution_count": null,
   "metadata": {},
   "outputs": [],
   "source": [
    "import rasterio\n",
    "\n",
    "with rasterio.open('example.tif') as src:\n",
    "    raster_data = src.read()\n"
   ]
  },
  {
   "cell_type": "code",
   "execution_count": null,
   "metadata": {},
   "outputs": [],
   "source": [
    "import matplotlib.pyplot as plt\n",
    "\n",
    "plt.imshow(raster_data)\n",
    "plt.show()\n"
   ]
  }
 ],
 "metadata": {
  "language_info": {
   "name": "python"
  },
  "orig_nbformat": 4
 },
 "nbformat": 4,
 "nbformat_minor": 2
}
