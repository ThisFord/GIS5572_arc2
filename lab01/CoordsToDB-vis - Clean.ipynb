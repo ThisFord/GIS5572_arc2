{
 "cells": [
  {
   "attachments": {},
   "cell_type": "markdown",
   "metadata": {},
   "source": [
    "# Abstraction and Visualization\n",
    "## Coordinates to Databse to Web Interface\n",
    "### Spatial Data Science Lab 1\n",
    "### *Create a polygon in space, serve it to your database with flask, visualize it in ArcPro and ArcOnline with your API*\n"
   ]
  },
  {
   "cell_type": "code",
   "execution_count": 3,
   "metadata": {},
   "outputs": [],
   "source": [
    "# import libraries\n",
    "import arcpy\n",
    "import psycopg2\n",
    "from psycopg2 import sql"
   ]
  },
  {
   "cell_type": "markdown",
   "metadata": {},
   "source": [
    "## Create Polygon from ArcGIS Primitives"
   ]
  },
  {
   "cell_type": "code",
   "execution_count": 4,
   "metadata": {},
   "outputs": [],
   "source": [
    "# Create List of Points\n",
    "# these are around lyn-lake area of minneapolis, points taken from google maps\n",
    "input_pts= [arcpy.Point(-93.28799740050877, 44.948356410427394), arcpy.Point(-93.27799812501203, 44.946594745325356), arcpy.Point(-93.27791229432108, 44.93775523014747), arcpy.Point(-93.2984043787839, 44.937687788845565), arcpy.Point(-93.28799740050877, 44.948356410427394)]\n",
    "# Convert to an Array then to a Polygon\n",
    "my_polygon = arcpy.Polygon(arcpy.Array(input_pts))"
   ]
  },
  {
   "cell_type": "markdown",
   "metadata": {},
   "source": [
    "## Push the table up to my PostGIS database with psycopg and SQL"
   ]
  },
  {
   "cell_type": "code",
   "execution_count": 9,
   "metadata": {},
   "outputs": [
    {
     "data": {
      "text/plain": [
       "<built-in method close of psycopg2.extensions.cursor object at 0x0000025C51695660>"
      ]
     },
     "execution_count": 9,
     "metadata": {},
     "output_type": "execute_result"
    }
   ],
   "source": [
    "# use psycopg to connect to my database hosted on Google Cloud \n",
    "connection = psycopg2.connect(host = 'your_ip', #ip address #all these values must be strings!\n",
    "                             database = 'lab0', #name of database created in your sql instance\n",
    "                             user = 'postgres',\n",
    "                             password = 'your_pw'##insert password, do not leave it here when post to github!\n",
    "                             )\n",
    "\n",
    "#instantiate a cursor, make the SQL table from the poly variable above\n",
    "cursor = connection.cursor()\n",
    "my_table = sql.SQL(\"CREATE TABLE IF NOT EXISTS new_polygon (polygon_id SERIAL PRIMARY KEY, geometry GEOMETRY)\")\n",
    "cursor.execute(my_table)\n",
    "\n",
    "# format of the above cursor.execute(\"SQL QUERY name of table (name of first column SQL DATA TYPE, name of second column SQL DATATYPE)\")\n",
    "# the above uses SQL queries to create a table named new_polygon and name it's columns polygon_id and geometry\n",
    "# the datatypes are set as Serial Primary Key (giving a serial index of unique numbers in that column)\n",
    "# and Gemoetry which accepts tuples of x, y pairings\n",
    "\n",
    "#insert values from the arcpy polygon defined above and\n",
    "#convert values in the \"geometry\" column to well know text format using the insert SQL query\n",
    "cursor.execute(\"INSERT INTO new_polygon (geometry) VALUES (ST_GeomFromText('{}'))\".format(my_polygon.WKT))\n",
    "# uses the postGIS ST_GeomFromText() to create geometry objects from the geometry\n",
    "#column from new_polygon table object tuples with no CRS then formats the whole table\n",
    "#as well known text\n",
    "\n",
    "#set the crs/spatial reference system of the geometry column to web mercatur \n",
    "cursor.execute(\"SELECT ST_SetSRID(geometry, 4326) FROM new_polygon;\")\n",
    "\n",
    "#end the cursor instance\n",
    "cursor.close\n",
    "\n"
   ]
  },
  {
   "cell_type": "code",
   "execution_count": 10,
   "metadata": {},
   "outputs": [
    {
     "data": {
      "text/plain": [
       "0"
      ]
     },
     "execution_count": 10,
     "metadata": {},
     "output_type": "execute_result"
    }
   ],
   "source": [
    "# test the connection, a valid connection will return 0\n",
    "connection.closed"
   ]
  },
  {
   "cell_type": "code",
   "execution_count": 48,
   "metadata": {},
   "outputs": [
    {
     "ename": "InterfaceError",
     "evalue": "connection already closed",
     "output_type": "error",
     "traceback": [
      "\u001b[0;31m---------------------------------------------------------------------------\u001b[0m\n\u001b[0;31mInterfaceError\u001b[0m                            Traceback (most recent call last)",
      "In  \u001b[0;34m[48]\u001b[0m:\nLine \u001b[0;34m4\u001b[0m:     cursor = connection.cursor()\n",
      "\u001b[0;31mInterfaceError\u001b[0m: connection already closed\n\u001b[0;31m---------------------------------------------------------------------------\u001b[0m"
     ]
    }
   ],
   "source": [
    "#look at the first cell of table I've just created\n",
    "\n",
    "# create a cursor again \n",
    "cursor = connection.cursor()\n",
    "\n",
    "# use the cursor to select the first cell of the table with the SQL command select 1 and return it with fetchall\n",
    "cursor.execute(\"SELECT 1\")\n",
    "cursor.fetchall()"
   ]
  },
  {
   "cell_type": "code",
   "execution_count": 14,
   "metadata": {},
   "outputs": [
    {
     "ename": "InterfaceError",
     "evalue": "connection already closed",
     "output_type": "error",
     "traceback": [
      "\u001b[0;31m---------------------------------------------------------------------------\u001b[0m\n\u001b[0;31mInterfaceError\u001b[0m                            Traceback (most recent call last)",
      "In  \u001b[0;34m[14]\u001b[0m:\nLine \u001b[0;34m2\u001b[0m:     connection.commit()\n",
      "\u001b[0;31mInterfaceError\u001b[0m: connection already closed\n\u001b[0;31m---------------------------------------------------------------------------\u001b[0m"
     ]
    }
   ],
   "source": [
    "#safely save the changes and end connection\n",
    "connection.commit()\n",
    "cursor.close() #end the cursor instance\n",
    "connection.close()"
   ]
  },
  {
   "cell_type": "markdown",
   "metadata": {},
   "source": [
    "## Create a Flask App to allow the polygon to be downloaded through an API for the database"
   ]
  },
  {
   "cell_type": "code",
   "execution_count": null,
   "metadata": {},
   "outputs": [],
   "source": [
    "#Set up the App\n",
    "#Import libraries and Flask\n",
    "#from flask import Flask, jsonify #do not import flask to the arc environment!\n",
    "import psycopg2\n",
    "\n",
    "#Instantiate flask,\n",
    "#app = Flask(__name__)"
   ]
  },
  {
   "cell_type": "code",
   "execution_count": null,
   "metadata": {},
   "outputs": [],
   "source": [
    "# Connect to the PostgreSQL database\n",
    "\n",
    "#Tip from Rob, set credentials as dictionary\n",
    "#then use the conn variable to unpack the dict\n",
    "#with equals signs using the two stars method\n",
    "pg_connect_dict = {\n",
    "    'dbname' : 'lab0',\n",
    "    'user' : 'postgres',\n",
    "    'password' : 'your_pw',\n",
    "    'host' : 'your_ip'\n",
    "}\n",
    "\n",
    "conn = psycopg2.connect(**pg_connect_dict) #unpack the dict above in the correct format\n",
    "\n",
    "#define the decorator functions\n",
    "\n",
    "@app.route('/') #python decorator\n",
    "def hello_world(): #function that app.route decorator references\n",
    "  response = hello()\n",
    "  return response\n",
    "\n",
    "def hello():\n",
    "  return \"hello, world\"\n",
    "\n",
    "#define another decorator\n",
    "@app.route('/geojson', methods=['POST', 'GET'])\n",
    "def get_geojson():\n",
    "    # Execute a query to retrieve the polygon from the database\n",
    "    cursor = conn.cursor()\n",
    "    cursor.execute(\"SELECT ST_AsGeoJSON(new_polygon.*) FROM new_polygon;\")\n",
    "    result = cursor.fetchall()\n",
    "    return result[0][0]\n",
    "    \n",
    "    if result is None:\n",
    "        return jsonify({'error': 'Polygon not found'}), 404\n",
    "    else:\n",
    "        return jsonify({'geojson': result[0]})\n",
    "if __name__ == '__main__':\n",
    "    app.run(debug=True, host='0.0.0.0', port=5000)\n",
    "\n",
    "@app.route('/polygon/<polygon_id>', methods=['POST', 'GET'])\n",
    "#define another page decorator\n",
    "def get_polygon(polygon_id):\n",
    "    \n",
    "    cursor = conn.cursor()\n",
    "    cursor.execute(\"SELECT ST_AsGeoJSON(geometry) FROM new_polygon WHERE polygon_id = %s;\", (polygon_id,))\n",
    "    result = cursor.fetchone()\n",
    "\n",
    " # Return the result as a GeoJSON object\n",
    "    if result is None:\n",
    "        return jsonify({'error': 'Polygon not found'}), 404\n",
    "    else:\n",
    "        return jsonify({'geojson': result[0]})\n",
    "if __name__ == '__main__':\n",
    "    app.run(debug=True, host='0.0.0.0', port=5000)\n"
   ]
  },
  {
   "cell_type": "markdown",
   "metadata": {},
   "source": [
    "# get the geojson through the api"
   ]
  },
  {
   "cell_type": "code",
   "execution_count": null,
   "metadata": {},
   "outputs": [],
   "source": [
    "# Retrieve polygon from VM API\n",
    "# url = r'http://34.28.9.238:5000/geojson'\n",
    "# dictionary = json.loads(requests.get(url).text)\n",
    "\n",
    "# # Remove one pair of brackets  \n",
    "# sub = dictionary['geojson'].replace(\"[[[[\", '[[[').replace(']]]]', ']]]')\n",
    "\n",
    "# # Convert string to JSON dictionary\n",
    "# dictionary_2 = json.loads(sub)"
   ]
  },
  {
   "cell_type": "markdown",
   "metadata": {},
   "source": [
    "## Import the Geojson with a GET request"
   ]
  },
  {
   "cell_type": "code",
   "execution_count": 1,
   "metadata": {},
   "outputs": [],
   "source": [
    "import requests\n",
    "import json"
   ]
  },
  {
   "cell_type": "code",
   "execution_count": 32,
   "metadata": {},
   "outputs": [
    {
     "name": "stdout",
     "output_type": "stream",
     "text": [
      "GEoJSON saved!\n"
     ]
    }
   ],
   "source": [
    "# set working environment\n",
    "cwd = r'C:\\Users\\MrJDF\\OneDrive\\Documents\\ArcGIS\\Projects\\DatabaseConnectionLab0'\n",
    "\n",
    "# set url of my api with the geojson endpoint from the flask app\n",
    "url = r'http://34.28.9.238:5000/geojson'\n",
    "\n",
    "#make request\n",
    "response = requests.get(url)    "
   ]
  },
  {
   "cell_type": "code",
   "execution_count": null,
   "metadata": {},
   "outputs": [],
   "source": [
    "#unpack request as json\n",
    "\n",
    "with open (cwd + '\\my_new_GeoJSON.geojson', 'w') as file:\n",
    "    file.write(str(response.json()))\n",
    "    print('GEoJSON saved!')"
   ]
  },
  {
   "cell_type": "code",
   "execution_count": 50,
   "metadata": {},
   "outputs": [
    {
     "data": {
      "text/html": [
       "<div class='gpresult'><h2>Messages</h2><div id='messages' data-messages='[\"Start Time: Friday, February 24, 2023 6:00:37 PM\",\"Succeeded at Friday, February 24, 2023 6:00:38 PM (Elapsed Time: 0.50 seconds)\"]' data-show='true'><div id = 'default' /></div></div>"
      ],
      "text/plain": [
       "<Result 'C:\\\\Users\\\\MrJDF\\\\OneDrive\\\\Documents\\\\ArcGIS\\\\Projects\\\\DatabaseConnectionLab0\\\\DatabaseConnectionLab0.gdb\\\\LynLakePolygon'>"
      ]
     },
     "execution_count": 50,
     "metadata": {},
     "output_type": "execute_result"
    }
   ],
   "source": [
    "# convert the geojson into a feature class\n",
    "\n",
    "geojson_in = cwd + '\\my_new_GeoJSON.geojson'\n",
    "\n",
    "arcpy.conversion.JSONToFeatures(geojson_in, 'LynLakePolygon')"
   ]
  },
  {
   "cell_type": "code",
   "execution_count": 47,
   "metadata": {},
   "outputs": [],
   "source": [
    "# add layer from path - this path is with the flask app\n",
    "#runnign in google cloud run,\n",
    "#after building with google build\n",
    "\n",
    "# this doesn't work BC esri won't accept geojson, so have to do the conversion in the cells above\n",
    "\n",
    "# Executing tool will automatically add layer to map\n",
    "# arcpy.management.MakeFeatureLayer(r'https://cloud-run-test-6omxj2spba-uc.a.run.app/geojson', \"LynLakeAPILayer\") "
   ]
  },
  {
   "cell_type": "code",
   "execution_count": null,
   "metadata": {},
   "outputs": [],
   "source": []
  }
 ],
 "metadata": {
  "kernelspec": {
   "display_name": "Python 3",
   "language": "python",
   "name": "python3"
  },
  "language_info": {
   "codemirror_mode": {
    "name": "ipython",
    "version": 3
   },
   "file_extension": ".py",
   "mimetype": "text/x-python",
   "name": "python",
   "nbconvert_exporter": "python",
   "pygments_lexer": "ipython3",
   "version": "3.9.11"
  },
  "vscode": {
   "interpreter": {
    "hash": "48e1826ab4cc110f84792b0e4cbadc3928bbba7169cb60de6f0ea077b6aa46e9"
   }
  }
 },
 "nbformat": 4,
 "nbformat_minor": 2
}
